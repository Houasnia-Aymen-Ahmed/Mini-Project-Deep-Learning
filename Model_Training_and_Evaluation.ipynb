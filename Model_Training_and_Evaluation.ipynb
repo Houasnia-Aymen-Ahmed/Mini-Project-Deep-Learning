{
 "cells": [
  {
   "cell_type": "markdown",
   "metadata": {},
   "source": [
    "# Import necessary libraries"
   ]
  },
  {
   "cell_type": "code",
   "execution_count": 1,
   "metadata": {},
   "outputs": [
    {
     "name": "stdout",
     "output_type": "stream",
     "text": [
      "WARNING:tensorflow:From f:\\Desktop\\Programming\\DeepLearning\\MiniProject\\venv\\lib\\site-packages\\keras\\src\\losses.py:2976: The name tf.losses.sparse_softmax_cross_entropy is deprecated. Please use tf.compat.v1.losses.sparse_softmax_cross_entropy instead.\n",
      "\n"
     ]
    }
   ],
   "source": [
    "import numpy as np\n",
    "import matplotlib.pyplot as plt\n",
    "from tensorflow.keras.optimizers import Adam\n",
    "from tensorflow.keras.models import load_model\n",
    "from tensorflow.keras.callbacks import ModelCheckpoint, EarlyStopping\n",
    "from sklearn.metrics import confusion_matrix\n",
    "from sklearn.metrics import classification_report\n",
    "from config import Config\n",
    "from utils import get_regularized_model, get_image_data_generator\n",
    "from data_preprocessing import load_and_preprocess_images, encode_labels, load_data"
   ]
  },
  {
   "cell_type": "markdown",
   "metadata": {},
   "source": [
    "# Load data & Create data generators"
   ]
  },
  {
   "cell_type": "code",
   "execution_count": 2,
   "metadata": {},
   "outputs": [],
   "source": [
    "x_train, x_val, y_train, y_val, label_to_name = load_data(\"Dataset/images/\", \"Dataset/labels.csv\")\n",
    "\n",
    "# Encode data in the right format\n",
    "x_train = np.array(x_train)\n",
    "y_train = np.array(y_train)\n",
    "x_val = np.array(x_val)\n",
    "y_val = np.array(y_val)\n",
    "\n",
    "x_train_processed = load_and_preprocess_images(x_train, target_size=(224, 224))\n",
    "x_val_processed = load_and_preprocess_images(x_val, target_size=(224, 224))\n",
    "\n",
    "y_train_encoded = encode_labels(y_train)\n",
    "y_val_encoded = encode_labels(y_val)\n",
    "\n",
    "train_data_generator = get_image_data_generator(\n",
    "    Config.rotation_range,\n",
    "    Config.width_shift_range,\n",
    "    Config.height_shift_range,\n",
    "    Config.shear_range,\n",
    "    Config.zoom_range,\n",
    "    Config.horizontal_flip,\n",
    "    Config.vertical_flip\n",
    ")\n",
    "\n",
    "# No data augmentation for validation\n",
    "val_data_generator = get_image_data_generator(0, 0, 0, 0, 0, False, False)  \n"
   ]
  },
  {
   "cell_type": "markdown",
   "metadata": {},
   "source": [
    "# Define & Compile the model"
   ]
  },
  {
   "cell_type": "code",
   "execution_count": 5,
   "metadata": {},
   "outputs": [
    {
     "name": "stdout",
     "output_type": "stream",
     "text": [
      "WARNING:tensorflow:From f:\\Desktop\\Programming\\DeepLearning\\MiniProject\\venv\\lib\\site-packages\\keras\\src\\backend.py:873: The name tf.get_default_graph is deprecated. Please use tf.compat.v1.get_default_graph instead.\n",
      "\n",
      "WARNING:tensorflow:From f:\\Desktop\\Programming\\DeepLearning\\MiniProject\\venv\\lib\\site-packages\\keras\\src\\layers\\pooling\\max_pooling2d.py:161: The name tf.nn.max_pool is deprecated. Please use tf.nn.max_pool2d instead.\n",
      "\n"
     ]
    }
   ],
   "source": [
    "model = get_regularized_model(Config.input_shape, Config.num_classes, Config.dropout_rate, Config.l2_regularization)\n",
    "\n",
    "model.compile(optimizer=Adam(learning_rate=Config.learning_rate),\n",
    "              loss='sparse_categorical_crossentropy',\n",
    "              metrics=['accuracy'])"
   ]
  },
  {
   "cell_type": "markdown",
   "metadata": {},
   "source": [
    "# Define callbacks"
   ]
  },
  {
   "cell_type": "code",
   "execution_count": 6,
   "metadata": {},
   "outputs": [],
   "source": [
    "checkpoint = ModelCheckpoint(\"Results/Model_Weights/best_model.h5\", save_best_only=True, monitor='val_accuracy', mode='max')\n",
    "early_stopping = EarlyStopping(monitor='val_accuracy', patience=5, restore_best_weights=True)"
   ]
  },
  {
   "cell_type": "markdown",
   "metadata": {},
   "source": [
    "# Train the model"
   ]
  },
  {
   "cell_type": "code",
   "execution_count": 7,
   "metadata": {},
   "outputs": [
    {
     "name": "stdout",
     "output_type": "stream",
     "text": [
      "Epoch 1/20\n",
      "WARNING:tensorflow:From f:\\Desktop\\Programming\\DeepLearning\\MiniProject\\venv\\lib\\site-packages\\keras\\src\\utils\\tf_utils.py:492: The name tf.ragged.RaggedTensorValue is deprecated. Please use tf.compat.v1.ragged.RaggedTensorValue instead.\n",
      "\n",
      "WARNING:tensorflow:From f:\\Desktop\\Programming\\DeepLearning\\MiniProject\\venv\\lib\\site-packages\\keras\\src\\engine\\base_layer_utils.py:384: The name tf.executing_eagerly_outside_functions is deprecated. Please use tf.compat.v1.executing_eagerly_outside_functions instead.\n",
      "\n",
      "3/3 [==============================] - ETA: 0s - loss: 2.8876 - accuracy: 0.0606"
     ]
    },
    {
     "name": "stderr",
     "output_type": "stream",
     "text": [
      "f:\\Desktop\\Programming\\DeepLearning\\MiniProject\\venv\\lib\\site-packages\\keras\\src\\engine\\training.py:3103: UserWarning: You are saving your model as an HDF5 file via `model.save()`. This file format is considered legacy. We recommend using instead the native Keras format, e.g. `model.save('my_model.keras')`.\n",
      "  saving_api.save_model(\n"
     ]
    },
    {
     "name": "stdout",
     "output_type": "stream",
     "text": [
      "3/3 [==============================] - 66s 27s/step - loss: 2.8876 - accuracy: 0.0606 - val_loss: 2.4503 - val_accuracy: 0.1667\n",
      "Epoch 2/20\n",
      "3/3 [==============================] - 6s 2s/step - loss: 2.2974 - accuracy: 0.1818 - val_loss: 2.1866 - val_accuracy: 0.1667\n",
      "Epoch 3/20\n",
      "3/3 [==============================] - 6s 2s/step - loss: 2.1678 - accuracy: 0.1515 - val_loss: 2.1220 - val_accuracy: 0.1667\n",
      "Epoch 4/20\n",
      "3/3 [==============================] - 6s 2s/step - loss: 2.1389 - accuracy: 0.1515 - val_loss: 2.1443 - val_accuracy: 0.1667\n",
      "Epoch 5/20\n",
      "3/3 [==============================] - 6s 2s/step - loss: 2.1317 - accuracy: 0.2727 - val_loss: 2.1424 - val_accuracy: 0.1667\n",
      "Epoch 6/20\n",
      "3/3 [==============================] - 6s 2s/step - loss: 2.1038 - accuracy: 0.1515 - val_loss: 2.1208 - val_accuracy: 0.1667\n"
     ]
    }
   ],
   "source": [
    "history = model.fit(\n",
    "    train_data_generator.flow(x_train_processed, y_train_encoded, batch_size=Config.batch_size),\n",
    "    steps_per_epoch=len(x_train_processed) // Config.batch_size,\n",
    "    epochs=Config.epochs,\n",
    "    validation_data=val_data_generator.flow(x_val_processed, y_val_encoded, batch_size=Config.batch_size),\n",
    "    validation_steps=len(x_val_processed) // Config.batch_size,\n",
    "    callbacks=[checkpoint, early_stopping]\n",
    ")"
   ]
  },
  {
   "cell_type": "markdown",
   "metadata": {},
   "source": [
    "# Save the final model & training history"
   ]
  },
  {
   "cell_type": "code",
   "execution_count": 8,
   "metadata": {},
   "outputs": [],
   "source": [
    "model.save(\"Results/Model_Weights/final_model.h5\")\n",
    "np.save(\"Results/Plots/training_history.npy\", history.history)"
   ]
  },
  {
   "cell_type": "markdown",
   "metadata": {},
   "source": [
    "# Evaluate the model on the test set"
   ]
  },
  {
   "cell_type": "code",
   "execution_count": 9,
   "metadata": {},
   "outputs": [],
   "source": [
    "test_data_generator = get_image_data_generator(0, 0, 0, 0, 0, False, False)"
   ]
  },
  {
   "cell_type": "markdown",
   "metadata": {},
   "source": [
    "# Load & evaluae the best model"
   ]
  },
  {
   "cell_type": "code",
   "execution_count": 10,
   "metadata": {},
   "outputs": [
    {
     "name": "stdout",
     "output_type": "stream",
     "text": [
      "1/1 [==============================] - 1s 542ms/step - loss: 2.4503 - accuracy: 0.1667\n",
      "\n",
      "Evaluation Loss: 2.4503\n",
      "Evaluation Accuracy: 16.67%\n"
     ]
    }
   ],
   "source": [
    "best_model = load_model(\"Results/Model_Weights/best_model.h5\")\n",
    "\n",
    "# Evaluate the model\n",
    "eval_result = best_model.evaluate(test_data_generator.flow(x_val_processed, y_val_encoded, batch_size=Config.batch_size),\n",
    "                                  steps=len(x_val) // Config.batch_size)\n",
    "print(\"\\nEvaluation Loss: {:.4f}\".format(eval_result[0]))\n",
    "print(\"Evaluation Accuracy: {:.2%}\".format(eval_result[1]))"
   ]
  },
  {
   "cell_type": "markdown",
   "metadata": {},
   "source": [
    "# Predict classes for test set"
   ]
  },
  {
   "cell_type": "code",
   "execution_count": 11,
   "metadata": {},
   "outputs": [
    {
     "name": "stdout",
     "output_type": "stream",
     "text": [
      "1/1 [==============================] - 1s 570ms/step\n"
     ]
    }
   ],
   "source": [
    "y_pred = best_model.predict(test_data_generator.flow(x_val_processed, batch_size=Config.batch_size)).argmax(axis=1)"
   ]
  },
  {
   "cell_type": "markdown",
   "metadata": {},
   "source": [
    "# Convert numerical labels back to student names"
   ]
  },
  {
   "cell_type": "code",
   "execution_count": 12,
   "metadata": {},
   "outputs": [
    {
     "name": "stdout",
     "output_type": "stream",
     "text": [
      "['CHEMMAMI_Abdrezak' 'HOUACHE_Mohamed' 'HOUASNIA_AymenAhmed'\n",
      " 'HOUACHE_Mohamed' 'TERCHI_Chaima' 'KHALFI_Abdelwadoud'\n",
      " 'CHEMMAMI_Abdrezak' 'HOUASNIA_AymenAhmed' 'TERCHI_Chaima' 'ZERAIB_Ranya'\n",
      " 'BERGHOUTH_Imene' 'KHALFI_Abdelwadoud']\n",
      "[1 2 3 2 5 4 1 3 5 6 0 4]\n",
      "[1 1 1 1 1 1 1 1 1 1 1 1]\n"
     ]
    }
   ],
   "source": [
    "print(y_val)\n",
    "print(y_val_encoded)\n",
    "print(y_pred)"
   ]
  },
  {
   "cell_type": "code",
   "execution_count": 16,
   "metadata": {},
   "outputs": [
    {
     "name": "stdout",
     "output_type": "stream",
     "text": [
      "Actual labels (y_val_names): ['CHEMMAMI_Abdrezak', 'HOUACHE_Mohamed', 'HOUASNIA_AymenAhmed', 'HOUACHE_Mohamed', 'TERCHI_Chaima', 'KHALFI_Abdelwadoud', 'CHEMMAMI_Abdrezak', 'HOUASNIA_AymenAhmed', 'TERCHI_Chaima', 'ZERAIB_Ranya', 'BERGHOUTH_Imene', 'KHALFI_Abdelwadoud']\n",
      "Predicted labels (y_pred_names): ['CHEMMAMI_Abdrezak', 'CHEMMAMI_Abdrezak', 'CHEMMAMI_Abdrezak', 'CHEMMAMI_Abdrezak', 'CHEMMAMI_Abdrezak', 'CHEMMAMI_Abdrezak', 'CHEMMAMI_Abdrezak', 'CHEMMAMI_Abdrezak', 'CHEMMAMI_Abdrezak', 'CHEMMAMI_Abdrezak', 'CHEMMAMI_Abdrezak', 'CHEMMAMI_Abdrezak']\n"
     ]
    }
   ],
   "source": [
    "y_val = ['CHEMMAMI_Abdrezak', 'HOUACHE_Mohamed', 'HOUASNIA_AymenAhmed', 'HOUACHE_Mohamed', 'TERCHI_Chaima', 'KHALFI_Abdelwadoud', 'CHEMMAMI_Abdrezak', 'HOUASNIA_AymenAhmed', 'TERCHI_Chaima', 'ZERAIB_Ranya', 'BERGHOUTH_Imene', 'KHALFI_Abdelwadoud']\n",
    "\n",
    "# Encode y_val to get y_val_encoded\n",
    "y_val_encoded = encode_labels(y_val)\n",
    "\n",
    "# Assuming y_pred_encoded contains encoded labels directly\n",
    "y_pred_encoded = np.array(y_pred)\n",
    "\n",
    "# Create a mapping from encoded labels to class names\n",
    "label_to_name_encoded = {label: name for name, label in zip(y_val, y_val_encoded)}\n",
    "\n",
    "# Map encoded labels back to class names for y_val_encoded and y_pred_encoded\n",
    "y_val_names = [label_to_name_encoded[label] for label in y_val_encoded]\n",
    "y_pred_names = [label_to_name_encoded[label] for label in y_pred_encoded]\n",
    "\n",
    "print(\"Actual labels (y_val_names):\", y_val_names)\n",
    "print(\"Predicted labels (y_pred_names):\", y_pred_names)"
   ]
  },
  {
   "cell_type": "markdown",
   "metadata": {},
   "source": [
    "# Print classification report and confusion matrix"
   ]
  },
  {
   "cell_type": "code",
   "execution_count": 18,
   "metadata": {},
   "outputs": [
    {
     "name": "stdout",
     "output_type": "stream",
     "text": [
      "\n",
      "Classification Report:\n",
      "                     precision    recall  f1-score   support\n",
      "\n",
      "    BERGHOUTH_Imene       0.00      0.00      0.00         1\n",
      "  CHEMMAMI_Abdrezak       0.17      1.00      0.29         2\n",
      "    HOUACHE_Mohamed       0.00      0.00      0.00         2\n",
      "HOUASNIA_AymenAhmed       0.00      0.00      0.00         2\n",
      " KHALFI_Abdelwadoud       0.00      0.00      0.00         2\n",
      "      TERCHI_Chaima       0.00      0.00      0.00         2\n",
      "       ZERAIB_Ranya       0.00      0.00      0.00         1\n",
      "\n",
      "           accuracy                           0.17        12\n",
      "          macro avg       0.02      0.14      0.04        12\n",
      "       weighted avg       0.03      0.17      0.05        12\n",
      "\n",
      "\n",
      "Confusion Matrix:\n",
      "[[0 1 0 0 0 0 0]\n",
      " [0 2 0 0 0 0 0]\n",
      " [0 2 0 0 0 0 0]\n",
      " [0 2 0 0 0 0 0]\n",
      " [0 2 0 0 0 0 0]\n",
      " [0 2 0 0 0 0 0]\n",
      " [0 1 0 0 0 0 0]]\n"
     ]
    },
    {
     "name": "stderr",
     "output_type": "stream",
     "text": [
      "f:\\Desktop\\Programming\\DeepLearning\\MiniProject\\venv\\lib\\site-packages\\sklearn\\metrics\\_classification.py:1471: UndefinedMetricWarning: Precision and F-score are ill-defined and being set to 0.0 in labels with no predicted samples. Use `zero_division` parameter to control this behavior.\n",
      "  _warn_prf(average, modifier, msg_start, len(result))\n",
      "f:\\Desktop\\Programming\\DeepLearning\\MiniProject\\venv\\lib\\site-packages\\sklearn\\metrics\\_classification.py:1471: UndefinedMetricWarning: Precision and F-score are ill-defined and being set to 0.0 in labels with no predicted samples. Use `zero_division` parameter to control this behavior.\n",
      "  _warn_prf(average, modifier, msg_start, len(result))\n",
      "f:\\Desktop\\Programming\\DeepLearning\\MiniProject\\venv\\lib\\site-packages\\sklearn\\metrics\\_classification.py:1471: UndefinedMetricWarning: Precision and F-score are ill-defined and being set to 0.0 in labels with no predicted samples. Use `zero_division` parameter to control this behavior.\n",
      "  _warn_prf(average, modifier, msg_start, len(result))\n"
     ]
    }
   ],
   "source": [
    "print(\"\\nClassification Report:\")\n",
    "print(classification_report(y_val_names, y_pred_names))\n",
    "\n",
    "print(\"\\nConfusion Matrix:\")\n",
    "print(confusion_matrix(y_val_names, y_pred_names))"
   ]
  },
  {
   "cell_type": "markdown",
   "metadata": {},
   "source": [
    "# Plot training history"
   ]
  },
  {
   "cell_type": "code",
   "execution_count": 19,
   "metadata": {},
   "outputs": [
    {
     "data": {
      "image/png": "[encoded data removed]",
      "text/plain": [
       "<Figure size 1200x400 with 2 Axes>"
      ]
     },
     "metadata": {},
     "output_type": "display_data"
    }
   ],
   "source": [
    "plt.figure(figsize=(12, 4))\n",
    "plt.subplot(1, 2, 1)\n",
    "plt.plot(history.history['loss'], label='Training Loss')\n",
    "plt.plot(history.history['val_loss'], label='Validation Loss')\n",
    "plt.title('Training and Validation Loss')\n",
    "plt.xlabel('Epoch')\n",
    "plt.ylabel('Loss')\n",
    "plt.legend()\n",
    "\n",
    "plt.subplot(1, 2, 2)\n",
    "plt.plot(history.history['accuracy'], label='Training Accuracy')\n",
    "plt.plot(history.history['val_accuracy'], label='Validation Accuracy')\n",
    "plt.title('Training and Validation Accuracy')\n",
    "plt.xlabel('Epoch')\n",
    "plt.ylabel('Accuracy')\n",
    "plt.legend()\n",
    "\n",
    "plt.show()"
   ]
  },
  {
   "cell_type": "markdown",
   "metadata": {},
   "source": [
    "# Save the plots"
   ]
  },
  {
   "cell_type": "code",
   "execution_count": 20,
   "metadata": {},
   "outputs": [
    {
     "data": {
      "text/plain": [
       "<Figure size 640x480 with 0 Axes>"
      ]
     },
     "metadata": {},
     "output_type": "display_data"
    }
   ],
   "source": [
    "plt.savefig(\"Results/Plots/training_and_validation_plots.png\")"
   ]
  }
 ],
 "metadata": {
  "kernelspec": {
   "display_name": "venv",
   "language": "python",
   "name": "python3"
  },
  "language_info": {
   "codemirror_mode": {
    "name": "ipython",
    "version": 3
   },
   "file_extension": ".py",
   "mimetype": "text/x-python",
   "name": "python",
   "nbconvert_exporter": "python",
   "pygments_lexer": "ipython3",
   "version": "3.9.10"
  }
 },
 "nbformat": 4,
 "nbformat_minor": 2
}
