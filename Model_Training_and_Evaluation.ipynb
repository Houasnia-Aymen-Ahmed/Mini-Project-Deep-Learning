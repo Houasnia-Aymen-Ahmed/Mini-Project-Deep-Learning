{
 "cells": [
  {
   "cell_type": "markdown",
   "metadata": {},
   "source": [
    "# Using pre-trained model"
   ]
  },
  {
   "cell_type": "code",
   "execution_count": 31,
   "metadata": {},
   "outputs": [
    {
     "name": "stdout",
     "output_type": "stream",
     "text": [
      "Found 91 validated image filenames belonging to 14 classes.\n",
      "Found 22 validated image filenames belonging to 14 classes.\n"
     ]
    },
    {
     "name": "stdout",
     "output_type": "stream",
     "text": [
      "Epoch 1/10\n",
      "3/3 [==============================] - 169s 51s/step - loss: 4.3434 - categorical_accuracy: 0.0549 - val_loss: 2.8401 - val_categorical_accuracy: 0.0000e+00\n",
      "Epoch 2/10\n",
      "3/3 [==============================] - 156s 51s/step - loss: 2.5770 - categorical_accuracy: 0.0879 - val_loss: 4.3646 - val_categorical_accuracy: 0.0000e+00\n",
      "Epoch 3/10\n",
      "3/3 [==============================] - 147s 48s/step - loss: 2.5536 - categorical_accuracy: 0.0879 - val_loss: 4.4379 - val_categorical_accuracy: 0.0000e+00\n",
      "Epoch 4/10\n",
      "3/3 [==============================] - 152s 51s/step - loss: 2.8866 - categorical_accuracy: 0.0769 - val_loss: 4.8365 - val_categorical_accuracy: 0.0000e+00\n",
      "Epoch 5/10\n",
      "3/3 [==============================] - 151s 53s/step - loss: 2.4968 - categorical_accuracy: 0.1209 - val_loss: 5.2851 - val_categorical_accuracy: 0.0000e+00\n",
      "Epoch 6/10\n",
      "3/3 [==============================] - 148s 48s/step - loss: 2.5490 - categorical_accuracy: 0.1099 - val_loss: 4.4762 - val_categorical_accuracy: 0.0000e+00\n",
      "Epoch 7/10\n",
      "3/3 [==============================] - 144s 47s/step - loss: 2.5202 - categorical_accuracy: 0.0879 - val_loss: 4.6238 - val_categorical_accuracy: 0.0000e+00\n",
      "Epoch 8/10\n",
      "3/3 [==============================] - 153s 50s/step - loss: 2.5052 - categorical_accuracy: 0.1099 - val_loss: 4.5861 - val_categorical_accuracy: 0.0000e+00\n",
      "Epoch 9/10\n",
      "3/3 [==============================] - 150s 49s/step - loss: 2.4918 - categorical_accuracy: 0.0659 - val_loss: 4.7454 - val_categorical_accuracy: 0.0000e+00\n",
      "Epoch 10/10\n",
      "3/3 [==============================] - 164s 59s/step - loss: 2.4776 - categorical_accuracy: 0.1099 - val_loss: 4.6824 - val_categorical_accuracy: 0.0000e+00\n"
     ]
    },
    {
     "data": {
      "text/plain": [
       "<keras.src.callbacks.History at 0x236040c4af0>"
      ]
     },
     "execution_count": 31,
     "metadata": {},
     "output_type": "execute_result"
    }
   ],
   "source": [
    "import pandas as pd\n",
    "from tensorflow import keras\n",
    "from tensorflow.keras.preprocessing.image import ImageDataGenerator\n",
    "\n",
    "data_path = \"Dataset/images/\"\n",
    "label_path = 'Dataset/labels.csv'\n",
    "\n",
    "# Load the labels from the CSV file\n",
    "labels_df = pd.read_csv(label_path)\n",
    "labels = labels_df['label'].tolist()\n",
    "\n",
    "# Create an ImageDataGenerator\n",
    "datagen = ImageDataGenerator(rescale=1./255, validation_split=0.2)\n",
    "\n",
    "# Flow from the directory and split the data into training and validation sets\n",
    "train_generator = datagen.flow_from_dataframe(\n",
    "    dataframe=labels_df,\n",
    "    directory=data_path,\n",
    "    x_col=\"image\",\n",
    "    y_col=\"label\",\n",
    "    subset=\"training\",\n",
    "    batch_size=32,\n",
    "    seed=42,\n",
    "    shuffle=True,\n",
    "    class_mode=\"categorical\",\n",
    "    target_size=(224, 224)\n",
    ")\n",
    "\n",
    "valid_generator = datagen.flow_from_dataframe(\n",
    "    dataframe=labels_df,\n",
    "    directory=data_path,\n",
    "    x_col=\"image\",\n",
    "    y_col=\"label\",\n",
    "    subset=\"validation\",\n",
    "    batch_size=32,\n",
    "    seed=42,\n",
    "    shuffle=True,\n",
    "    class_mode=\"categorical\",\n",
    "    target_size=(224, 224)\n",
    ")\n",
    "\n",
    "# Load the VGG16 model\n",
    "base_model = keras.applications.VGG16(\n",
    "    weights='imagenet',\n",
    "    input_shape=(224, 224, 3),\n",
    "    include_top=False\n",
    ")\n",
    "\n",
    "# Freeze the base model\n",
    "\n",
    "for layer in base_model.layers[:-15]:\n",
    "  layer.trainable = False\n",
    "\n",
    "# Create a new model on top\n",
    "inputs = keras.Input(shape=(224, 224, 3))\n",
    "x = base_model(inputs, training=False)\n",
    "x = keras.layers.GlobalAveragePooling2D()(x)\n",
    "outputs = keras.layers.Dense(14, activation='softmax')(x)\n",
    "model = keras.Model(inputs, outputs)\n",
    "\n",
    "# Compile the model\n",
    "model.compile(optimizer=keras.optimizers.Adam(),\n",
    "              loss=keras.losses.CategoricalCrossentropy(),\n",
    "              metrics=[keras.metrics.CategoricalAccuracy()])\n",
    "\n",
    "# Train the model\n",
    "model.fit(train_generator, validation_data=valid_generator, epochs=10)"
   ]
  },
  {
   "cell_type": "markdown",
   "metadata": {},
   "source": [
    "# Import necessary libraries"
   ]
  },
  {
   "cell_type": "code",
   "execution_count": 32,
   "metadata": {},
   "outputs": [],
   "source": [
    "import numpy as np\n",
    "import matplotlib.pyplot as plt\n",
    "from itertools import product\n",
    "from tensorflow.keras.optimizers import Adam\n",
    "from tensorflow.keras.models import load_model\n",
    "from tensorflow.keras.callbacks import ModelCheckpoint, EarlyStopping\n",
    "from sklearn.metrics import confusion_matrix\n",
    "from sklearn.metrics import classification_report\n",
    "from config import Config\n",
    "from utils import get_regularized_model, get_image_data_generator\n",
    "from data_preprocessing import load_and_preprocess_images, encode_labels, load_data"
   ]
  },
  {
   "cell_type": "markdown",
   "metadata": {},
   "source": [
    "# Load data & Create data generators"
   ]
  },
  {
   "cell_type": "code",
   "execution_count": 33,
   "metadata": {},
   "outputs": [],
   "source": [
    "x_train, x_val, y_train, y_val, label_to_name = load_data(\"Dataset/images/\", \"Dataset/labels.csv\")\n",
    "\n",
    "# Encode data in the right format\n",
    "x_train = np.array(x_train)\n",
    "y_train = np.array(y_train)\n",
    "x_val = np.array(x_val)\n",
    "y_val = np.array(y_val)\n",
    "\n",
    "x_train_processed = load_and_preprocess_images(x_train, target_size=(224, 224))\n",
    "x_val_processed = load_and_preprocess_images(x_val, target_size=(224, 224))\n",
    "\n",
    "y_train_encoded = encode_labels(y_train)\n",
    "y_val_encoded = encode_labels(y_val)\n",
    "\n",
    "train_data_generator = get_image_data_generator(\n",
    "    Config.rotation_range,\n",
    "    Config.width_shift_range,\n",
    "    Config.height_shift_range,\n",
    "    Config.shear_range,\n",
    "    Config.zoom_range,\n",
    "    Config.horizontal_flip,\n",
    "    Config.vertical_flip\n",
    ")\n",
    "\n",
    "# No data augmentation for validation\n",
    "val_data_generator = get_image_data_generator(0, 0, 0, 0, 0, False, False)"
   ]
  },
  {
   "cell_type": "markdown",
   "metadata": {},
   "source": [
    "# Define & Compile the model"
   ]
  },
  {
   "cell_type": "code",
   "execution_count": 3,
   "metadata": {},
   "outputs": [
    {
     "name": "stdout",
     "output_type": "stream",
     "text": [
      "WARNING:tensorflow:From f:\\Desktop\\Programming\\DeepLearning\\MiniProject\\venv\\lib\\site-packages\\keras\\src\\backend.py:873: The name tf.get_default_graph is deprecated. Please use tf.compat.v1.get_default_graph instead.\n",
      "\n",
      "WARNING:tensorflow:From f:\\Desktop\\Programming\\DeepLearning\\MiniProject\\venv\\lib\\site-packages\\keras\\src\\layers\\pooling\\max_pooling2d.py:161: The name tf.nn.max_pool is deprecated. Please use tf.nn.max_pool2d instead.\n",
      "\n"
     ]
    }
   ],
   "source": [
    "model = get_regularized_model(Config.input_shape, Config.num_classes, Config.dropout_rate, Config.l2_regularization)\n",
    "\n",
    "model.compile(optimizer=Adam(learning_rate=Config.learning_rate),\n",
    "              loss='sparse_categorical_crossentropy',\n",
    "              metrics=['accuracy'])"
   ]
  },
  {
   "cell_type": "markdown",
   "metadata": {},
   "source": [
    "# Define callbacks"
   ]
  },
  {
   "cell_type": "code",
   "execution_count": 4,
   "metadata": {},
   "outputs": [],
   "source": [
    "checkpoint = ModelCheckpoint(\"Results/Model_Weights/best_model.h5\", save_best_only=True, monitor='val_accuracy', mode='max')\n",
    "early_stopping = EarlyStopping(monitor='val_accuracy', patience=10, restore_best_weights=True)"
   ]
  },
  {
   "cell_type": "code",
   "execution_count": 5,
   "metadata": {},
   "outputs": [
    {
     "name": "stdout",
     "output_type": "stream",
     "text": [
      "Model: \"sequential\"\n",
      "_________________________________________________________________\n",
      " Layer (type)                Output Shape              Param #   \n",
      "=================================================================\n",
      " conv2d (Conv2D)             (None, 222, 222, 32)      896       \n",
      "                                                                 \n",
      " max_pooling2d (MaxPooling2  (None, 111, 111, 32)      0         \n",
      " D)                                                              \n",
      "                                                                 \n",
      " conv2d_1 (Conv2D)           (None, 109, 109, 64)      18496     \n",
      "                                                                 \n",
      " max_pooling2d_1 (MaxPoolin  (None, 54, 54, 64)        0         \n",
      " g2D)                                                            \n",
      "                                                                 \n",
      " conv2d_2 (Conv2D)           (None, 52, 52, 128)       73856     \n",
      "                                                                 \n",
      " max_pooling2d_2 (MaxPoolin  (None, 26, 26, 128)       0         \n",
      " g2D)                                                            \n",
      "                                                                 \n",
      " conv2d_3 (Conv2D)           (None, 24, 24, 256)       295168    \n",
      "                                                                 \n",
      " max_pooling2d_3 (MaxPoolin  (None, 12, 12, 256)       0         \n",
      " g2D)                                                            \n",
      "                                                                 \n",
      " flatten (Flatten)           (None, 36864)             0         \n",
      "                                                                 \n",
      " dense (Dense)               (None, 512)               18874880  \n",
      "                                                                 \n",
      " dropout (Dropout)           (None, 512)               0         \n",
      "                                                                 \n",
      " dense_1 (Dense)             (None, 14)                7182      \n",
      "                                                                 \n",
      "=================================================================\n",
      "Total params: 19270478 (73.51 MB)\n",
      "Trainable params: 19270478 (73.51 MB)\n",
      "Non-trainable params: 0 (0.00 Byte)\n",
      "_________________________________________________________________\n"
     ]
    }
   ],
   "source": [
    "model.summary()"
   ]
  },
  {
   "cell_type": "markdown",
   "metadata": {},
   "source": [
    "# Train the model"
   ]
  },
  {
   "cell_type": "code",
   "execution_count": 6,
   "metadata": {},
   "outputs": [
    {
     "name": "stdout",
     "output_type": "stream",
     "text": [
      "Epoch 1/10\n",
      "WARNING:tensorflow:From f:\\Desktop\\Programming\\DeepLearning\\MiniProject\\venv\\lib\\site-packages\\keras\\src\\utils\\tf_utils.py:492: The name tf.ragged.RaggedTensorValue is deprecated. Please use tf.compat.v1.ragged.RaggedTensorValue instead.\n",
      "\n",
      "WARNING:tensorflow:From f:\\Desktop\\Programming\\DeepLearning\\MiniProject\\venv\\lib\\site-packages\\keras\\src\\engine\\base_layer_utils.py:384: The name tf.executing_eagerly_outside_functions is deprecated. Please use tf.compat.v1.executing_eagerly_outside_functions instead.\n",
      "\n",
      "7/7 [==============================] - ETA: 0s - loss: 3.4980 - accuracy: 0.0897"
     ]
    },
    {
     "name": "stderr",
     "output_type": "stream",
     "text": [
      "f:\\Desktop\\Programming\\DeepLearning\\MiniProject\\venv\\lib\\site-packages\\keras\\src\\engine\\training.py:3103: UserWarning: You are saving your model as an HDF5 file via `model.save()`. This file format is considered legacy. We recommend using instead the native Keras format, e.g. `model.save('my_model.keras')`.\n",
      "  saving_api.save_model(\n"
     ]
    },
    {
     "name": "stdout",
     "output_type": "stream",
     "text": [
      "7/7 [==============================] - 53s 7s/step - loss: 3.4980 - accuracy: 0.0897 - val_loss: 3.0326 - val_accuracy: 0.0833\n",
      "Epoch 2/10\n",
      "7/7 [==============================] - 27s 3s/step - loss: 2.9203 - accuracy: 0.0897 - val_loss: 2.8589 - val_accuracy: 0.0833\n",
      "Epoch 3/10\n",
      "7/7 [==============================] - 27s 3s/step - loss: 2.8387 - accuracy: 0.1071 - val_loss: 2.8093 - val_accuracy: 0.0000e+00\n",
      "Epoch 4/10\n",
      "7/7 [==============================] - 30s 3s/step - loss: 2.7777 - accuracy: 0.0897 - val_loss: 2.7476 - val_accuracy: 0.1667\n",
      "Epoch 5/10\n",
      "7/7 [==============================] - 26s 3s/step - loss: 2.7348 - accuracy: 0.0897 - val_loss: 2.7381 - val_accuracy: 0.0000e+00\n",
      "Epoch 6/10\n",
      "7/7 [==============================] - 31s 3s/step - loss: 2.7109 - accuracy: 0.0769 - val_loss: 2.6607 - val_accuracy: 0.1667\n",
      "Epoch 7/10\n",
      "7/7 [==============================] - 28s 3s/step - loss: 2.6780 - accuracy: 0.1310 - val_loss: 2.6904 - val_accuracy: 0.0833\n",
      "Epoch 8/10\n",
      "7/7 [==============================] - 31s 4s/step - loss: 2.6592 - accuracy: 0.0897 - val_loss: 2.6067 - val_accuracy: 0.1667\n",
      "Epoch 9/10\n",
      "7/7 [==============================] - 25s 3s/step - loss: 2.6554 - accuracy: 0.0769 - val_loss: 2.6511 - val_accuracy: 0.1667\n",
      "Epoch 10/10\n",
      "7/7 [==============================] - 25s 2s/step - loss: 2.6306 - accuracy: 0.1026 - val_loss: 2.6072 - val_accuracy: 0.1667\n"
     ]
    }
   ],
   "source": [
    "history = model.fit(\n",
    "    train_data_generator.flow(x_train_processed, y_train_encoded, batch_size=Config.batch_size),\n",
    "    steps_per_epoch=len(x_train_processed) // Config.batch_size,\n",
    "    epochs=Config.epochs,\n",
    "    validation_data=val_data_generator.flow(x_val_processed, y_val_encoded, batch_size=Config.batch_size),\n",
    "    validation_steps=len(x_val_processed) // Config.batch_size,\n",
    "    callbacks=[checkpoint, early_stopping]\n",
    ")"
   ]
  },
  {
   "cell_type": "markdown",
   "metadata": {},
   "source": [
    "# Save the final model & training history"
   ]
  },
  {
   "cell_type": "code",
   "execution_count": 7,
   "metadata": {},
   "outputs": [],
   "source": [
    "model.save(\"Results/Model_Weights/final_model.h5\")\n",
    "np.save(\"Results/Plots/training_history.npy\", history.history)"
   ]
  },
  {
   "cell_type": "markdown",
   "metadata": {},
   "source": [
    "# Evaluate the model on the test set"
   ]
  },
  {
   "cell_type": "code",
   "execution_count": 8,
   "metadata": {},
   "outputs": [],
   "source": [
    "test_data_generator = get_image_data_generator(0, 0, 0, 0, 0, False, False)"
   ]
  },
  {
   "cell_type": "markdown",
   "metadata": {},
   "source": [
    "# Load & evaluae the best model"
   ]
  },
  {
   "cell_type": "code",
   "execution_count": 9,
   "metadata": {},
   "outputs": [
    {
     "name": "stdout",
     "output_type": "stream",
     "text": [
      "1/1 [==============================] - 10s 10s/step - loss: 2.7514 - accuracy: 0.1667\n",
      "\n",
      "Evaluation Loss: 2.7514\n",
      "Evaluation Accuracy: 16.67%\n"
     ]
    }
   ],
   "source": [
    "best_model = load_model(\"Results/Model_Weights/best_model.h5\")\n",
    "\n",
    "# Evaluate the model\n",
    "eval_result = best_model.evaluate(test_data_generator.flow(x_val_processed, y_val_encoded, batch_size=Config.batch_size),\n",
    "                                  steps=len(x_val) // Config.batch_size)\n",
    "print(\"\\nEvaluation Loss: {:.4f}\".format(eval_result[0]))\n",
    "print(\"Evaluation Accuracy: {:.2%}\".format(eval_result[1]))"
   ]
  },
  {
   "cell_type": "markdown",
   "metadata": {},
   "source": [
    "# Predict classes for test set"
   ]
  },
  {
   "cell_type": "code",
   "execution_count": 11,
   "metadata": {},
   "outputs": [
    {
     "name": "stdout",
     "output_type": "stream",
     "text": [
      "1/1 [==============================] - 19s 19s/step\n",
      "Predicted Class: [9]\n"
     ]
    }
   ],
   "source": [
    "from utils import predict_single_image\n",
    "\n",
    "\n",
    "image_path = \"Dataset/images/2.jpg\"\n",
    "target_size = (224, 224)  # Adjust the target size based on your model's input size\n",
    "\n",
    "predicted_class = predict_single_image(best_model, image_path, target_size)\n",
    "print(\"Predicted Class:\", predicted_class)"
   ]
  },
  {
   "cell_type": "code",
   "execution_count": 12,
   "metadata": {},
   "outputs": [
    {
     "name": "stdout",
     "output_type": "stream",
     "text": [
      "2/2 [==============================] - 17s 349ms/step\n"
     ]
    }
   ],
   "source": [
    "y_pred = best_model.predict(test_data_generator.flow(x_val_processed, batch_size=Config.batch_size)).argmax(axis=1)"
   ]
  },
  {
   "cell_type": "markdown",
   "metadata": {},
   "source": [
    "# Convert numerical labels back to student names"
   ]
  },
  {
   "cell_type": "code",
   "execution_count": 13,
   "metadata": {},
   "outputs": [],
   "source": [
    "import pandas as pd"
   ]
  },
  {
   "cell_type": "code",
   "execution_count": 25,
   "metadata": {},
   "outputs": [
    {
     "name": "stdout",
     "output_type": "stream",
     "text": [
      "Actual labels (y_val_names): ['ABDERAHMANI_Issam', 'BAHRI_Mohamed_Mouloud', 'BENAGGOUNE_Skander', 'BENGUESSOUM_Ahmed_Rached', 'BERGHOUTH_Imene', 'CHAHI_Kamel_Eddine', 'CHEMMAMI_Abdrezak', 'HORRI_Mourad', 'HOUACHE_Mohamed', 'HOUASNIA_Aymen_Ahmed', 'KHALFI_Abdelwadoud', 'OMERANI_Ala_Eddine', 'TERCHI_Chaima', 'ZERAIB_Ranya']\n",
      "Predicted labels (y_pred_names): ['HOUASNIA_Aymen_Ahmed', 'HOUASNIA_Aymen_Ahmed', 'HOUASNIA_Aymen_Ahmed', 'HOUASNIA_Aymen_Ahmed', 'HOUASNIA_Aymen_Ahmed', 'HOUASNIA_Aymen_Ahmed', 'HOUASNIA_Aymen_Ahmed', 'HOUASNIA_Aymen_Ahmed', 'HOUASNIA_Aymen_Ahmed', 'HOUASNIA_Aymen_Ahmed', 'HOUASNIA_Aymen_Ahmed', 'HOUASNIA_Aymen_Ahmed', 'HOUASNIA_Aymen_Ahmed', 'HOUASNIA_Aymen_Ahmed', 'HOUASNIA_Aymen_Ahmed', 'HOUASNIA_Aymen_Ahmed', 'HOUASNIA_Aymen_Ahmed', 'HOUASNIA_Aymen_Ahmed', 'HOUASNIA_Aymen_Ahmed', 'HOUASNIA_Aymen_Ahmed', 'HOUASNIA_Aymen_Ahmed', 'HOUASNIA_Aymen_Ahmed', 'HOUASNIA_Aymen_Ahmed']\n"
     ]
    }
   ],
   "source": [
    "labels_df = pd.read_csv(\"Dataset/labels.csv\")\n",
    "y_val = labels_df['label'].tolist()\n",
    "y_val = sorted(list(set(y_val)))\n",
    "\n",
    "# Encode y_val to get y_val_encoded\n",
    "y_val_encoded = encode_labels(y_val)\n",
    "\n",
    "# Assuming y_pred_encoded contains encoded labels directly\n",
    "y_pred_encoded = np.array(y_pred)\n",
    "\n",
    "# Create a mapping from encoded labels to class names\n",
    "label_to_name_encoded = {label: name for name, label in zip(y_val, y_val_encoded)}\n",
    "\n",
    "# Map encoded labels back to class names for y_val_encoded and y_pred_encoded\n",
    "y_val_names = [label_to_name_encoded[label] for label in y_val_encoded]\n",
    "y_pred_names = [label_to_name_encoded[label] for label in y_pred_encoded]\n",
    "\n",
    "print(\"Actual labels (y_val_names):\", y_val_names)\n",
    "print(\"Predicted labels (y_pred_names):\", y_pred_names)"
   ]
  },
  {
   "cell_type": "markdown",
   "metadata": {},
   "source": [
    "# Plot training history"
   ]
  },
  {
   "cell_type": "code",
   "execution_count": 26,
   "metadata": {},
   "outputs": [
    {
     "data": {
      "image/png": "[encoded data removed]",
      "text/plain": [
       "<Figure size 1200x400 with 2 Axes>"
      ]
     },
     "metadata": {},
     "output_type": "display_data"
    }
   ],
   "source": [
    "plt.figure(figsize=(12, 4))\n",
    "plt.subplot(1, 2, 1)\n",
    "plt.plot(history.history['loss'], label='Training Loss')\n",
    "plt.plot(history.history['val_loss'], label='Validation Loss')\n",
    "plt.title('Training and Validation Loss')\n",
    "plt.xlabel('Epoch')\n",
    "plt.ylabel('Loss')\n",
    "plt.legend()\n",
    "\n",
    "plt.subplot(1, 2, 2)\n",
    "plt.plot(history.history['accuracy'], label='Training Accuracy')\n",
    "plt.plot(history.history['val_accuracy'], label='Validation Accuracy')\n",
    "plt.title('Training and Validation Accuracy')\n",
    "plt.xlabel('Epoch')\n",
    "plt.ylabel('Accuracy')\n",
    "plt.legend()\n",
    "\n",
    "plt.show()"
   ]
  },
  {
   "cell_type": "markdown",
   "metadata": {},
   "source": [
    "# Save the plots"
   ]
  },
  {
   "cell_type": "code",
   "execution_count": 27,
   "metadata": {},
   "outputs": [
    {
     "data": {
      "text/plain": [
       "<Figure size 640x480 with 0 Axes>"
      ]
     },
     "metadata": {},
     "output_type": "display_data"
    }
   ],
   "source": [
    "plt.savefig(\"Results/Plots/training_and_validation_plots.png\")"
   ]
  }
 ],
 "metadata": {
  "kernelspec": {
   "display_name": "venv",
   "language": "python",
   "name": "python3"
  },
  "language_info": {
   "codemirror_mode": {
    "name": "ipython",
    "version": 3
   },
   "file_extension": ".py",
   "mimetype": "text/x-python",
   "name": "python",
   "nbconvert_exporter": "python",
   "pygments_lexer": "ipython3",
   "version": "3.9.10"
  }
 },
 "nbformat": 4,
 "nbformat_minor": 2
}
